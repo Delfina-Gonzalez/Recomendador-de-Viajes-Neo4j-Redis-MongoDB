{
 "cells": [
  {
   "cell_type": "markdown",
   "id": "86e15dfc",
   "metadata": {},
   "source": [
    "## 📄 Informe Final: Estrategia, Modelado y Resultados\n",
    "\n",
    "**Este proyecto se ha desarrollado bajo una arquitectura de Persistencia Políglota, la cual utiliza múltiples bases de datos para gestionar diferentes tipos de información dentro de un Sistema de Gestión y Recomendación de Viajes, optimizando el rendimiento y la funcionalidad del sistema.**\n",
    "\n",
    "    1. Estrategia de Integración\n",
    "La integración entre las bases de datos se realiza a nivel de la aplicación (JupyterLab), utilizando identificadores comunes para enlazar la información.\n",
    "\n",
    "Neo4j y MongoDB: La integración se basa en el principio de \"consultar relaciones, obtener detalles\". Neo4j procesa consultas de grafos complejas (ej., encontrar destinos visitados por amigos) y devuelve listas de IDs (ej., destino_id). Posteriormente, la aplicación usa esos IDs para consultar MongoDB y obtener los detalles completos de los documentos (precios, nombres, descripciones).\n",
    "\n",
    "Redis: Opera como una capa de servicio independiente para la gestión del estado y datos efímeros, proporcionando una interfaz de baja latencia para la aplicación sin interferir con las operaciones transaccionales o relacionales.\n",
    "\n",
    "    2. Justificación de las Decisiones de Modelado\n",
    "Se asignó cada tipo de información a la base de datos que mejor se adapta a su estructura y a los requisitos de consulta:\n",
    "\n",
    "MongoDB (Base de Datos Documental)\n",
    "Datos Almacenados: Usuarios, Destinos, Hoteles, Actividades y Reservas.\n",
    "\n",
    "Justificación: Se eligió MongoDB para el catálogo y los datos transaccionales (Reservas) debido a su esquema flexible. Esto es esencial para manejar atributos variables como la lista de servicios en los Hoteles o el array de actividades_ids dentro de los documentos de Reserva. Su potente marco de agregación (Aggregation Framework) es óptimo para generar las estadísticas (Destino más visitado, Actividad más popular).\n",
    "\n",
    "Neo4j (Base de Datos de Grafos)\n",
    "Datos Almacenados: Relaciones de Conocimiento (VISITÓ) y Relaciones Sociales (AMIGO_DE, FAMILIAR_DE).\n",
    "\n",
    "Justificación: Se utiliza Neo4j para todas las relaciones que definen el componente de Recomendación Social. La estructura de grafos permite realizar consultas de pathfinding de manera extremadamente eficiente, resolviendo los puntos de recomendación (2.b, 2.c, 2.d) que requieren analizar la profundidad de las conexiones entre usuarios.\n",
    "\n",
    "Redis (Base de Datos Clave-Valor en Memoria)\n",
    "Datos Almacenados: Caché de búsquedas, Usuarios conectados (Sets), y Reservas temporales (Hashes).\n",
    "\n",
    "Justificación: Se implementó Redis para la gestión del estado de la sesión y datos temporales. Ofrece la latencia más baja, ideal para verificar rápidamente el estado de un usuario (usuarios conectados) o para almacenar transacciones inestables (reservas en proceso) que aún no deben contaminar la base de datos transaccional principal (MongoDB).\n",
    "\n",
    "    3. Conclusiones\n",
    "La arquitectura de Persistencia Políglota implementada cumple satisfactoriamente con todos los requerimientos.\n",
    "\n",
    "Optimización Funcional: La especialización de tareas (MongoDB para transacciones, Neo4j para relaciones, Redis para estado) maximiza el rendimiento.\n",
    "\n",
    "Capacidad de Recomendación: La integración con Neo4j dota al sistema de una capacidad robusta y escalable para generar recomendaciones personalizadas y sociales, un aspecto crucial del proyecto.\n",
    "\n",
    "Gestión de Datos Diversos: El sistema demuestra ser capaz de manejar datos estructurados, semi-estructurados, relacionales y volátiles simultáneamente, lo que garantiza la integridad y la velocidad en cada una de las capas del sistema de viajes."
   ]
  }
 ],
 "metadata": {
  "language_info": {
   "name": "python"
  }
 },
 "nbformat": 4,
 "nbformat_minor": 5
}
